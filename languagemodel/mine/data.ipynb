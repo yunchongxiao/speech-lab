{
 "cells": [
  {
   "cell_type": "code",
   "execution_count": 2,
   "metadata": {},
   "outputs": [],
   "source": [
    "import os\n",
    "from io import open\n",
    "import torch\n",
    "\n",
    "class MyDictionary(object):\n",
    "    def __init__(self):\n",
    "        self.word2idx:dict = {}\n",
    "        self.idx2word:list = []\n",
    "\n",
    "    def add_word(self, word:str) -> int:\n",
    "        if word not in self.word2idx:\n",
    "            self.idx2word.append(word)\n",
    "            self.word2idx[word] = len(self.idx2word) - 1\n",
    "        return self.word2idx[word]\n",
    "\n",
    "    def __len__(self)->int:\n",
    "        return len(self.word2idx)\n",
    "    \n",
    "class MyCorpus(object):\n",
    "    def __init__(self, dataDir:str) -> None:\n",
    "        self.dictionary = MyDictionary()\n",
    "        self.train = self.tokenize(os.path.join(dataDir, \"train.txt\"))\n",
    "        self.valid = self.tokenize(os.path.join(dataDir, \"valid.txt\"))\n",
    "        self.test = self.tokenize(os.path.join(dataDir, \"test.txt\"))\n",
    "\n",
    "\n",
    "    def tokenize(self, filePath:str)->None:\n",
    "        # TODO\n",
    "        assert os.path.exists(filePath)\n",
    "        with open(filePath, 'r', encoding=\"utf8\") as f:\n",
    "            text_idxs_list = []\n",
    "            for line in f:\n",
    "                line_idxs = []\n",
    "                wordList = line.split() + ['<eos>']\n",
    "                for word in wordList:\n",
    "                    self.dictionary.add_word(word)\n",
    "                    line_idxs.append(self.dictionary.word2idx[word])\n",
    "                text_idxs_list.append(torch.tensor(line_idxs, dtype=torch.int64))\n",
    "            text_idxs = torch.cat(text_idxs_list)\n",
    "        return text_idxs\n",
    "\n",
    "        \n"
   ]
  },
  {
   "cell_type": "code",
   "execution_count": 4,
   "metadata": {},
   "outputs": [
    {
     "ename": "KeyboardInterrupt",
     "evalue": "",
     "output_type": "error",
     "traceback": [
      "\u001b[0;31m---------------------------------------------------------------------------\u001b[0m",
      "\u001b[0;31mKeyboardInterrupt\u001b[0m                         Traceback (most recent call last)",
      "Cell \u001b[0;32mIn[4], line 1\u001b[0m\n\u001b[0;32m----> 1\u001b[0m torpuc \u001b[39m=\u001b[39m MyCorpus(\u001b[39m'\u001b[39;49m\u001b[39m../data/gigaspeech/\u001b[39;49m\u001b[39m'\u001b[39;49m)\n",
      "Cell \u001b[0;32mIn[2], line 22\u001b[0m, in \u001b[0;36mMyCorpus.__init__\u001b[0;34m(self, dataDir)\u001b[0m\n\u001b[1;32m     20\u001b[0m \u001b[39mdef\u001b[39;00m \u001b[39m__init__\u001b[39m(\u001b[39mself\u001b[39m, dataDir:\u001b[39mstr\u001b[39m) \u001b[39m-\u001b[39m\u001b[39m>\u001b[39m \u001b[39mNone\u001b[39;00m:\n\u001b[1;32m     21\u001b[0m     \u001b[39mself\u001b[39m\u001b[39m.\u001b[39mdictionary \u001b[39m=\u001b[39m MyDictionary()\n\u001b[0;32m---> 22\u001b[0m     \u001b[39mself\u001b[39m\u001b[39m.\u001b[39mtrain \u001b[39m=\u001b[39m \u001b[39mself\u001b[39;49m\u001b[39m.\u001b[39;49mtokenize(os\u001b[39m.\u001b[39;49mpath\u001b[39m.\u001b[39;49mjoin(dataDir, \u001b[39m\"\u001b[39;49m\u001b[39mtrain.txt\u001b[39;49m\u001b[39m\"\u001b[39;49m))\n\u001b[1;32m     23\u001b[0m     \u001b[39mself\u001b[39m\u001b[39m.\u001b[39mvalid \u001b[39m=\u001b[39m \u001b[39mself\u001b[39m\u001b[39m.\u001b[39mtokenize(os\u001b[39m.\u001b[39mpath\u001b[39m.\u001b[39mjoin(dataDir, \u001b[39m\"\u001b[39m\u001b[39mvalid.txt\u001b[39m\u001b[39m\"\u001b[39m))\n\u001b[1;32m     24\u001b[0m     \u001b[39mself\u001b[39m\u001b[39m.\u001b[39mtest \u001b[39m=\u001b[39m \u001b[39mself\u001b[39m\u001b[39m.\u001b[39mtokenize(os\u001b[39m.\u001b[39mpath\u001b[39m.\u001b[39mjoin(dataDir, \u001b[39m\"\u001b[39m\u001b[39mtest.txt\u001b[39m\u001b[39m\"\u001b[39m))\n",
      "Cell \u001b[0;32mIn[2], line 40\u001b[0m, in \u001b[0;36mMyCorpus.tokenize\u001b[0;34m(self, filePath)\u001b[0m\n\u001b[1;32m     38\u001b[0m         text_idxs_list\u001b[39m.\u001b[39mappend(torch\u001b[39m.\u001b[39mtensor(line_idxs, dtype\u001b[39m=\u001b[39mtorch\u001b[39m.\u001b[39mint64))\n\u001b[1;32m     39\u001b[0m     text_idxs \u001b[39m=\u001b[39m torch\u001b[39m.\u001b[39mcat(text_idxs_list)\n\u001b[0;32m---> 40\u001b[0m \u001b[39mreturn\u001b[39;00m text_idxs\n",
      "Cell \u001b[0;32mIn[2], line 40\u001b[0m, in \u001b[0;36mMyCorpus.tokenize\u001b[0;34m(self, filePath)\u001b[0m\n\u001b[1;32m     38\u001b[0m         text_idxs_list\u001b[39m.\u001b[39mappend(torch\u001b[39m.\u001b[39mtensor(line_idxs, dtype\u001b[39m=\u001b[39mtorch\u001b[39m.\u001b[39mint64))\n\u001b[1;32m     39\u001b[0m     text_idxs \u001b[39m=\u001b[39m torch\u001b[39m.\u001b[39mcat(text_idxs_list)\n\u001b[0;32m---> 40\u001b[0m \u001b[39mreturn\u001b[39;00m text_idxs\n",
      "File \u001b[0;32m_pydevd_bundle/pydevd_cython.pyx:1457\u001b[0m, in \u001b[0;36m_pydevd_bundle.pydevd_cython.SafeCallWrapper.__call__\u001b[0;34m()\u001b[0m\n",
      "File \u001b[0;32m_pydevd_bundle/pydevd_cython.pyx:701\u001b[0m, in \u001b[0;36m_pydevd_bundle.pydevd_cython.PyDBFrame.trace_dispatch\u001b[0;34m()\u001b[0m\n",
      "File \u001b[0;32m_pydevd_bundle/pydevd_cython.pyx:1152\u001b[0m, in \u001b[0;36m_pydevd_bundle.pydevd_cython.PyDBFrame.trace_dispatch\u001b[0;34m()\u001b[0m\n",
      "File \u001b[0;32m_pydevd_bundle/pydevd_cython.pyx:1135\u001b[0m, in \u001b[0;36m_pydevd_bundle.pydevd_cython.PyDBFrame.trace_dispatch\u001b[0;34m()\u001b[0m\n",
      "File \u001b[0;32m_pydevd_bundle/pydevd_cython.pyx:312\u001b[0m, in \u001b[0;36m_pydevd_bundle.pydevd_cython.PyDBFrame.do_wait_suspend\u001b[0;34m()\u001b[0m\n",
      "File \u001b[0;32m~/.conda/envs/d2l-zh/lib/python3.8/site-packages/debugpy/_vendored/pydevd/pydevd.py:2070\u001b[0m, in \u001b[0;36mPyDB.do_wait_suspend\u001b[0;34m(self, thread, frame, event, arg, exception_type)\u001b[0m\n\u001b[1;32m   2067\u001b[0m             from_this_thread\u001b[39m.\u001b[39mappend(frame_custom_thread_id)\n\u001b[1;32m   2069\u001b[0m     \u001b[39mwith\u001b[39;00m \u001b[39mself\u001b[39m\u001b[39m.\u001b[39m_threads_suspended_single_notification\u001b[39m.\u001b[39mnotify_thread_suspended(thread_id, thread, stop_reason):\n\u001b[0;32m-> 2070\u001b[0m         keep_suspended \u001b[39m=\u001b[39m \u001b[39mself\u001b[39;49m\u001b[39m.\u001b[39;49m_do_wait_suspend(thread, frame, event, arg, suspend_type, from_this_thread, frames_tracker)\n\u001b[1;32m   2072\u001b[0m frames_list \u001b[39m=\u001b[39m \u001b[39mNone\u001b[39;00m\n\u001b[1;32m   2074\u001b[0m \u001b[39mif\u001b[39;00m keep_suspended:\n\u001b[1;32m   2075\u001b[0m     \u001b[39m# This means that we should pause again after a set next statement.\u001b[39;00m\n",
      "File \u001b[0;32m~/.conda/envs/d2l-zh/lib/python3.8/site-packages/debugpy/_vendored/pydevd/pydevd.py:2106\u001b[0m, in \u001b[0;36mPyDB._do_wait_suspend\u001b[0;34m(self, thread, frame, event, arg, suspend_type, from_this_thread, frames_tracker)\u001b[0m\n\u001b[1;32m   2103\u001b[0m         \u001b[39mself\u001b[39m\u001b[39m.\u001b[39m_call_input_hook()\n\u001b[1;32m   2105\u001b[0m     \u001b[39mself\u001b[39m\u001b[39m.\u001b[39mprocess_internal_commands()\n\u001b[0;32m-> 2106\u001b[0m     time\u001b[39m.\u001b[39;49msleep(\u001b[39m0.01\u001b[39;49m)\n\u001b[1;32m   2108\u001b[0m \u001b[39mself\u001b[39m\u001b[39m.\u001b[39mcancel_async_evaluation(get_current_thread_id(thread), \u001b[39mstr\u001b[39m(\u001b[39mid\u001b[39m(frame)))\n\u001b[1;32m   2110\u001b[0m \u001b[39m# process any stepping instructions\u001b[39;00m\n",
      "\u001b[0;31mKeyboardInterrupt\u001b[0m: "
     ]
    }
   ],
   "source": []
  },
  {
   "cell_type": "code",
   "execution_count": null,
   "metadata": {},
   "outputs": [],
   "source": []
  }
 ],
 "metadata": {
  "kernelspec": {
   "display_name": "Python 3",
   "language": "python",
   "name": "python3"
  },
  "language_info": {
   "codemirror_mode": {
    "name": "ipython",
    "version": 3
   },
   "file_extension": ".py",
   "mimetype": "text/x-python",
   "name": "python",
   "nbconvert_exporter": "python",
   "pygments_lexer": "ipython3",
   "version": "3.8.13"
  },
  "orig_nbformat": 4
 },
 "nbformat": 4,
 "nbformat_minor": 2
}
