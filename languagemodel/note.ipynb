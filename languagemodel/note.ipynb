{
 "cells": [
  {
   "attachments": {},
   "cell_type": "markdown",
   "metadata": {},
   "source": [
    "`launch.json` 文件夹的路径配置\n",
    "```json\n",
    "${workspaceRoot} // 当前打开的文件夹的绝对路径\n",
    "\n",
    "${workspaceRootFolderName} // 当前打开的文件夹的名字\n",
    "\n",
    "${file} // 当前打开正在编辑的文件名，包括绝对路径，文件名，文件后缀名\n",
    "\n",
    "${relativeFile} // 从当前打开的文件夹到当前打开的文件的路径\n",
    "\n",
    "${fileBasename} // 当前打开的文件名+后缀名，不包括路径\n",
    "\n",
    "${fileBasenameNoExtension} // 当前打开的文件的文件名，不包括路径和后缀名\n",
    "\n",
    "${fileDirname} // 当前打开的文件所在的绝对路径，不包括文件名\n",
    "\n",
    "${fileExtname} // 当前打开的文件的后缀名\n",
    "```"
   ]
  },
  {
   "attachments": {},
   "cell_type": "markdown",
   "metadata": {},
   "source": [
    "`data.py`\n"
   ]
  }
 ],
 "metadata": {
  "language_info": {
   "name": "python"
  },
  "orig_nbformat": 4
 },
 "nbformat": 4,
 "nbformat_minor": 2
}
